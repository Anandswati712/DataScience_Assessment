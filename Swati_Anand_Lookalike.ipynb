{
  "nbformat": 4,
  "nbformat_minor": 0,
  "metadata": {
    "colab": {
      "provenance": []
    },
    "kernelspec": {
      "name": "python3",
      "display_name": "Python 3"
    },
    "language_info": {
      "name": "python"
    }
  },
  "cells": [
    {
      "cell_type": "code",
      "execution_count": 2,
      "metadata": {
        "colab": {
          "base_uri": "https://localhost:8080/"
        },
        "id": "oNui5ywCL2I6",
        "outputId": "51bc2acb-4c6f-48b9-aa7f-a78e8368f8ed"
      },
      "outputs": [
        {
          "output_type": "stream",
          "name": "stdout",
          "text": [
            "Requirement already satisfied: pandas in /usr/local/lib/python3.11/dist-packages (2.2.3)\n",
            "Requirement already satisfied: numpy>=1.23.2 in /usr/local/lib/python3.11/dist-packages (from pandas) (1.26.4)\n",
            "Requirement already satisfied: python-dateutil>=2.8.2 in /usr/local/lib/python3.11/dist-packages (from pandas) (2.8.2)\n",
            "Requirement already satisfied: pytz>=2020.1 in /usr/local/lib/python3.11/dist-packages (from pandas) (2024.2)\n",
            "Requirement already satisfied: tzdata>=2022.7 in /usr/local/lib/python3.11/dist-packages (from pandas) (2025.1)\n",
            "Requirement already satisfied: six>=1.5 in /usr/local/lib/python3.11/dist-packages (from python-dateutil>=2.8.2->pandas) (1.17.0)\n"
          ]
        }
      ],
      "source": [
        "!pip install --upgrade pandas\n"
      ]
    },
    {
      "cell_type": "code",
      "source": [
        "import pandas as pd\n",
        "from sklearn.metrics.pairwise import cosine_similarity\n",
        "from sklearn.preprocessing import StandardScaler"
      ],
      "metadata": {
        "id": "O3WZYSITZELA"
      },
      "execution_count": 3,
      "outputs": []
    },
    {
      "cell_type": "code",
      "source": [
        "# Load the datasets\n",
        "customers = pd.read_csv('Customers.csv')\n",
        "products = pd.read_csv('Products.csv')\n",
        "transactions = pd.read_csv('Transactions.csv')"
      ],
      "metadata": {
        "id": "2alOnmwPZP3I"
      },
      "execution_count": 4,
      "outputs": []
    },
    {
      "cell_type": "code",
      "source": [
        "merged_dataset = transactions.merge(customers, on='CustomerID', how='left')\n",
        "print(merged_dataset.head())\n",
        "merged_dataset = pd.merge(merged_dataset, products, on='ProductID', how='left')"
      ],
      "metadata": {
        "colab": {
          "base_uri": "https://localhost:8080/"
        },
        "id": "Iwr-VpawZYnA",
        "outputId": "4ef1b3ff-2fa3-4d46-8caa-228fd197120e"
      },
      "execution_count": 5,
      "outputs": [
        {
          "output_type": "stream",
          "name": "stdout",
          "text": [
            "  TransactionID CustomerID ProductID      TransactionDate  Quantity  \\\n",
            "0        T00001      C0199      P067  2024-08-25 12:38:23         1   \n",
            "1        T00112      C0146      P067  2024-05-27 22:23:54         1   \n",
            "2        T00166      C0127      P067  2024-04-25 07:38:55         1   \n",
            "3        T00272      C0087      P067  2024-03-26 22:55:37         2   \n",
            "4        T00363      C0070      P067  2024-03-21 15:10:10         3   \n",
            "\n",
            "   TotalValue   Price     CustomerName         Region  SignupDate  \n",
            "0      300.68  300.68   Andrea Jenkins         Europe  2022-12-03  \n",
            "1      300.68  300.68  Brittany Harvey           Asia  2024-09-04  \n",
            "2      300.68  300.68  Kathryn Stevens         Europe  2024-04-04  \n",
            "3      601.36  300.68  Travis Campbell  South America  2024-04-11  \n",
            "4      902.04  300.68    Timothy Perez         Europe  2022-03-15  \n"
          ]
        }
      ]
    },
    {
      "cell_type": "markdown",
      "source": [
        "Aggregate data per customers"
      ],
      "metadata": {
        "id": "YKhdXW2zcj2t"
      }
    },
    {
      "cell_type": "code",
      "source": [
        "print(merged_dataset.head(20))"
      ],
      "metadata": {
        "colab": {
          "base_uri": "https://localhost:8080/"
        },
        "id": "bbs7OgWfjKbj",
        "outputId": "a57e44ee-df71-4a0a-850d-ec447d70c7d8"
      },
      "execution_count": 6,
      "outputs": [
        {
          "output_type": "stream",
          "name": "stdout",
          "text": [
            "   TransactionID CustomerID ProductID      TransactionDate  Quantity  \\\n",
            "0         T00001      C0199      P067  2024-08-25 12:38:23         1   \n",
            "1         T00112      C0146      P067  2024-05-27 22:23:54         1   \n",
            "2         T00166      C0127      P067  2024-04-25 07:38:55         1   \n",
            "3         T00272      C0087      P067  2024-03-26 22:55:37         2   \n",
            "4         T00363      C0070      P067  2024-03-21 15:10:10         3   \n",
            "5         T00442      C0188      P067  2024-12-26 14:40:03         1   \n",
            "6         T00490      C0195      P067  2024-11-24 11:49:48         3   \n",
            "7         T00536      C0008      P067  2024-09-22 06:13:59         1   \n",
            "8         T00564      C0157      P067  2024-12-07 17:57:40         3   \n",
            "9         T00631      C0130      P067  2024-05-14 23:14:59         2   \n",
            "10        T00727      C0051      P067  2024-01-20 04:52:14         3   \n",
            "11        T00729      C0075      P067  2024-10-07 06:38:36         2   \n",
            "12        T00797      C0155      P067  2024-10-04 20:42:53         2   \n",
            "13        T00002      C0092      P034  2024-12-16 03:31:07         2   \n",
            "14        T00063      C0088      P034  2024-06-19 07:16:55         2   \n",
            "15        T00093      C0109      P034  2024-08-11 04:10:13         4   \n",
            "16        T00127      C0041      P034  2024-06-03 21:07:56         4   \n",
            "17        T00270      C0101      P034  2024-11-07 02:48:08         3   \n",
            "18        T00358      C0154      P034  2024-04-08 20:47:01         1   \n",
            "19        T00518      C0200      P034  2024-12-11 03:05:50         4   \n",
            "\n",
            "    TotalValue  Price_x       CustomerName         Region  SignupDate  \\\n",
            "0       300.68   300.68     Andrea Jenkins         Europe  2022-12-03   \n",
            "1       300.68   300.68    Brittany Harvey           Asia  2024-09-04   \n",
            "2       300.68   300.68    Kathryn Stevens         Europe  2024-04-04   \n",
            "3       601.36   300.68    Travis Campbell  South America  2024-04-11   \n",
            "4       902.04   300.68      Timothy Perez         Europe  2022-03-15   \n",
            "5       300.68   300.68          Anna Ball  South America  2022-05-17   \n",
            "6       902.04   300.68  Jeremy Mclaughlin  South America  2024-09-17   \n",
            "7       300.68   300.68           David Li  North America  2024-01-13   \n",
            "8       902.04   300.68        Miguel Wong  North America  2024-01-30   \n",
            "9       601.36   300.68       Robert Jones  South America  2023-04-19   \n",
            "10      902.04   300.68     Nicholas Ellis         Europe  2023-12-21   \n",
            "11      601.36   300.68      Misty Higgins         Europe  2023-05-01   \n",
            "12      601.36   300.68     Michelle Brown  South America  2023-03-23   \n",
            "13      434.10   217.05  Jacqueline Zamora           Asia  2024-05-29   \n",
            "14      434.10   217.05      Carlos Murray           Asia  2023-05-14   \n",
            "15      868.20   217.05      Abigail Jones  North America  2022-05-09   \n",
            "16      868.20   217.05     Lindsey Deleon         Europe  2023-12-27   \n",
            "17      651.15   217.05     Kelsey Roberts           Asia  2023-09-30   \n",
            "18      217.05   217.05       Robert Sharp  North America  2024-10-27   \n",
            "19      868.20   217.05        Kelly Cross           Asia  2023-06-11   \n",
            "\n",
            "                        ProductName     Category  Price_y  \n",
            "0   ComfortLiving Bluetooth Speaker  Electronics   300.68  \n",
            "1   ComfortLiving Bluetooth Speaker  Electronics   300.68  \n",
            "2   ComfortLiving Bluetooth Speaker  Electronics   300.68  \n",
            "3   ComfortLiving Bluetooth Speaker  Electronics   300.68  \n",
            "4   ComfortLiving Bluetooth Speaker  Electronics   300.68  \n",
            "5   ComfortLiving Bluetooth Speaker  Electronics   300.68  \n",
            "6   ComfortLiving Bluetooth Speaker  Electronics   300.68  \n",
            "7   ComfortLiving Bluetooth Speaker  Electronics   300.68  \n",
            "8   ComfortLiving Bluetooth Speaker  Electronics   300.68  \n",
            "9   ComfortLiving Bluetooth Speaker  Electronics   300.68  \n",
            "10  ComfortLiving Bluetooth Speaker  Electronics   300.68  \n",
            "11  ComfortLiving Bluetooth Speaker  Electronics   300.68  \n",
            "12  ComfortLiving Bluetooth Speaker  Electronics   300.68  \n",
            "13                HomeSense T-Shirt     Clothing   217.05  \n",
            "14                HomeSense T-Shirt     Clothing   217.05  \n",
            "15                HomeSense T-Shirt     Clothing   217.05  \n",
            "16                HomeSense T-Shirt     Clothing   217.05  \n",
            "17                HomeSense T-Shirt     Clothing   217.05  \n",
            "18                HomeSense T-Shirt     Clothing   217.05  \n",
            "19                HomeSense T-Shirt     Clothing   217.05  \n"
          ]
        }
      ]
    },
    {
      "cell_type": "code",
      "source": [
        "print(merged_dataset['SignupDate'].isna())\n"
      ],
      "metadata": {
        "colab": {
          "base_uri": "https://localhost:8080/"
        },
        "id": "JTp_rn9XjyCV",
        "outputId": "c43df7b3-a071-42ea-d651-5c75e9faf34e"
      },
      "execution_count": 7,
      "outputs": [
        {
          "output_type": "stream",
          "name": "stdout",
          "text": [
            "0      False\n",
            "1      False\n",
            "2      False\n",
            "3      False\n",
            "4      False\n",
            "       ...  \n",
            "995    False\n",
            "996    False\n",
            "997    False\n",
            "998    False\n",
            "999    False\n",
            "Name: SignupDate, Length: 1000, dtype: bool\n"
          ]
        }
      ]
    },
    {
      "cell_type": "code",
      "source": [
        "customer_profile = merged_dataset.groupby('CustomerID').agg(\n",
        "    total_spend=('TotalValue', 'sum'),\n",
        "    purchase_frequency=('TransactionID', 'count'),\n",
        "    unique_products=('ProductID', 'nunique'),\n",
        "    # category_preference=('Category', lambda x: x.value_counts().idxmax() if len(x) > 0 else None)\n",
        ").reset_index()\n",
        "customer_profile = pd.merge(customer_profile, customers[['CustomerID', 'Region']], on='CustomerID', how='left')\n"
      ],
      "metadata": {
        "id": "3YsCtIh6ce_V"
      },
      "execution_count": 28,
      "outputs": []
    },
    {
      "cell_type": "code",
      "source": [
        "# merged_dataset['SignupDate'] = pd.to_datetime(merged_dataset['SignupDate'])\n",
        "# current_data = pd.Timestamp.now()\n",
        "# merged_dataset['Tenure'] = (current_data - merged_dataset['SignupDate']).dt.days\n",
        "# customer_profile = pd.merge(customer_profile, merged_dataset[['CustomerID', 'Tenure']], on='CustomerID', how='left')"
      ],
      "metadata": {
        "id": "5Knq0a40eMGw"
      },
      "execution_count": 29,
      "outputs": []
    },
    {
      "cell_type": "code",
      "source": [
        "print(merged_dataset['Tenure'].isnull().sum())"
      ],
      "metadata": {
        "colab": {
          "base_uri": "https://localhost:8080/"
        },
        "id": "l-az7XwIjDyL",
        "outputId": "a787eb22-7dc1-48cc-f32d-b46a06ac4536"
      },
      "execution_count": 30,
      "outputs": [
        {
          "output_type": "stream",
          "name": "stdout",
          "text": [
            "0\n"
          ]
        }
      ]
    },
    {
      "cell_type": "code",
      "source": [
        "print(merged_dataset['Tenure'].head())"
      ],
      "metadata": {
        "colab": {
          "base_uri": "https://localhost:8080/"
        },
        "id": "fQKwA3o6kt9J",
        "outputId": "1ed1bcf8-7023-4af7-aa16-712876e0da12"
      },
      "execution_count": 31,
      "outputs": [
        {
          "output_type": "stream",
          "name": "stdout",
          "text": [
            "0     786\n",
            "1     145\n",
            "2     298\n",
            "3     291\n",
            "4    1049\n",
            "Name: Tenure, dtype: int64\n"
          ]
        }
      ]
    },
    {
      "cell_type": "markdown",
      "source": [
        "Normalise Numeric Features"
      ],
      "metadata": {
        "id": "fJe1ShLIexJ2"
      }
    },
    {
      "cell_type": "code",
      "source": [
        "scaler = StandardScaler()\n",
        "numeric_features = ['total_spend', 'purchase_frequency', 'unique_products']\n",
        "customer_profile[numeric_features] = scaler.fit_transform(customer_profile[numeric_features])"
      ],
      "metadata": {
        "id": "k8y977OlewMS"
      },
      "execution_count": 32,
      "outputs": []
    },
    {
      "cell_type": "markdown",
      "source": [
        "We will exclude 'CustomerID','Region'and 'Category' for similarity calculation"
      ],
      "metadata": {
        "id": "jeuGH_J_gcJ7"
      }
    },
    {
      "cell_type": "code",
      "source": [
        "features = customer_profile[['total_spend', 'purchase_frequency', 'unique_products']]\n",
        "similarity_matrix = cosine_similarity(features)"
      ],
      "metadata": {
        "id": "W92qrRCkgb8a"
      },
      "execution_count": 33,
      "outputs": []
    },
    {
      "cell_type": "markdown",
      "source": [
        "Top 3 lookalike recommendation for fuest 20 customers"
      ],
      "metadata": {
        "id": "-YoM14j6grhX"
      }
    },
    {
      "cell_type": "code",
      "source": [
        "top_lookalikes = {}\n",
        "for cust_id in customer_profile['CustomerID'].head(20):\n",
        "    cust_index = customer_profile[customer_profile['CustomerID'] == cust_id].index[0]\n",
        "\n",
        "    # Get similarity scores for this customer with all others\n",
        "    similarity_scores = similarity_matrix[cust_index]\n",
        "\n",
        "    # Exclude the customer itself from the recommendations (set its similarity score to 0)\n",
        "    similarity_scores[cust_index] = 0\n",
        "\n",
        "    # Get the top 3 most similar customers\n",
        "    similar_customer_indices = similarity_scores.argsort()[-3:][::-1]\n",
        "    recommended_customers = [(customer_profile.iloc[i]['CustomerID'], similarity_scores[i]) for i in similar_customer_indices]\n",
        "    top_lookalikes[cust_id] = recommended_customers\n",
        "\n",
        "# Save the results to a CSV file\n",
        "lookalike_df = pd.DataFrame(columns=['CustomerID', 'Lookalikes'])\n",
        "for cust_id, recommendations in top_lookalikes.items():\n",
        "    lookalike_df = pd.concat([lookalike_df, pd.DataFrame({\n",
        "        'CustomerID': cust_id,\n",
        "        'Lookalikes': recommendations\n",
        "    })], ignore_index=True)\n",
        "# df = pd.concat([df, pd.DataFrame([new_row])], ignore_index=True)\n",
        "\n",
        "lookalike_df.to_csv('Lookalike.csv', index=False)\n",
        "print(lookalike_df.head())\n"
      ],
      "metadata": {
        "colab": {
          "base_uri": "https://localhost:8080/"
        },
        "id": "RKMRkpEXPonr",
        "outputId": "0b981aa0-65a2-430d-9ced-2de79bbb496d"
      },
      "execution_count": 34,
      "outputs": [
        {
          "output_type": "stream",
          "name": "stdout",
          "text": [
            "  CustomerID                   Lookalikes\n",
            "0      C0001  (C0137, 0.9963323425457112)\n",
            "1      C0001  (C0152, 0.9869046482018122)\n",
            "2      C0001  (C0056, 0.9304265739853477)\n",
            "3      C0002  (C0029, 0.9997577919968235)\n",
            "4      C0002  (C0199, 0.9993469209744867)\n"
          ]
        }
      ]
    },
    {
      "cell_type": "code",
      "source": [],
      "metadata": {
        "id": "SY-0QLYicRrF"
      },
      "execution_count": 14,
      "outputs": []
    }
  ]
}